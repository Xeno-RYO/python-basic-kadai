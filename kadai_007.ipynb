{
  "nbformat": 4,
  "nbformat_minor": 0,
  "metadata": {
    "colab": {
      "provenance": []
    },
    "kernelspec": {
      "name": "python3",
      "display_name": "Python 3"
    },
    "language_info": {
      "name": "python"
    }
  },
  "cells": [
    {
      "cell_type": "code",
      "execution_count": 12,
      "metadata": {
        "colab": {
          "base_uri": "https://localhost:8080/"
        },
        "id": "EviUglIfiQ2_",
        "outputId": "54646a2f-491a-4cdf-c4a3-6fb853f459c5"
      },
      "outputs": [
        {
          "output_type": "stream",
          "name": "stdout",
          "text": [
            "水曜日は晴れです\n"
          ]
        }
      ],
      "source": [
        "list = [\n",
        "\"月曜日は晴れです\",\n",
        "\"火曜日は雨です\",\n",
        "\"水曜日は晴れです\",\n",
        "\"木曜日は晴れです\",\n",
        "\"金曜日は曇りです\",\n",
        "\"土曜日は曇りのち雨です\",\n",
        "\"日曜日は雷雨です\"]\n",
        "print(list[2])"
      ]
    },
    {
      "cell_type": "code",
      "source": [
        "dictionary = {\n",
        "\"mon\":\"晴れ\",\n",
        "\"tue\":\"雨\",\n",
        "\"wed\":\"晴れ\",\n",
        "\"thu\":\"晴れ\",\n",
        "\"fri\":\"曇り\",\n",
        "\"sat\":\"曇りのち雨\",\n",
        "\"sun\":\"雷雨\",\n",
        "}\n",
        "print(dictionary[\"wed\"])"
      ],
      "metadata": {
        "colab": {
          "base_uri": "https://localhost:8080/"
        },
        "id": "EQ9wm7HRahCk",
        "outputId": "87a33a5a-f121-4c21-bc44-6fc200269af7"
      },
      "execution_count": 16,
      "outputs": [
        {
          "output_type": "stream",
          "name": "stdout",
          "text": [
            "晴れ\n"
          ]
        }
      ]
    }
  ]
}