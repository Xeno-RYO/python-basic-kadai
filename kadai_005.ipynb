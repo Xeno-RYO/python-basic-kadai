{
  "cells": [
    {
      "attachments": {},
      "cell_type": "markdown",
      "metadata": {
        "id": "HaAuEP6w5rXo"
      },
      "source": [
        "上辺 = 10\n",
        "下辺 = 20\n",
        "高さ = 5\n",
        "\n",
        "台形の面積 = (上辺 + 下辺) * 高さ / 2\n",
        "print('台形の面積 + \"㎠\")"
      ]
    },
    {
      "cell_type": "code",
      "execution_count": null,
      "metadata": {
        "colab": {
          "base_uri": "https://localhost:8080/"
        },
        "id": "FL_TU92xsNMy",
        "outputId": "f3446ad4-68c3-428b-a111-83eb730e4437"
      },
      "outputs": [
        {
          "name": "stdout",
          "output_type": "stream",
          "text": [
            "75.0㎠\n"
          ]
        }
      ],
      "source": [
        "上辺 = 10\n",
        "下辺 = 20\n",
        "高さ = 5\n",
        "\n",
        "台形の面積 = (上辺 + 下辺) * 高さ / 2\n",
        "print(str(台形の面積) + \"㎠\")"
      ]
    }
  ],
  "metadata": {
    "colab": {
      "provenance": []
    },
    "kernelspec": {
      "display_name": "Python 3",
      "name": "python3"
    },
    "language_info": {
      "name": "python"
    }
  },
  "nbformat": 4,
  "nbformat_minor": 0
}
